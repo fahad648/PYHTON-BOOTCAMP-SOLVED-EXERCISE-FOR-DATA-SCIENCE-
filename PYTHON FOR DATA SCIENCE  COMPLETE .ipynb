{
 "cells": [
  {
   "cell_type": "markdown",
   "metadata": {},
   "source": [
    "# \" VARIABLES IN PYHTON \" \n"
   ]
  },
  {
   "cell_type": "code",
   "execution_count": 2,
   "metadata": {},
   "outputs": [
    {
     "name": "stdout",
     "output_type": "stream",
     "text": [
      "So My Age is :  20\n"
     ]
    }
   ],
   "source": [
    "BirthYear=2001\n",
    "CurrentYear=2021\n",
    "Age=CurrentYear-BirthYear\n",
    "print(\"So My Age is : \",Age)"
   ]
  },
  {
   "cell_type": "code",
   "execution_count": 36,
   "metadata": {},
   "outputs": [
    {
     "name": "stdout",
     "output_type": "stream",
     "text": [
      "My Full name is : Fahad Farooq Khan\n"
     ]
    }
   ],
   "source": [
    "First=\"Fahad\"\n",
    "Middle=\"Farooq\"\n",
    "Last=\"Khan\"\n",
    "print(\"My Full name is :\",First+\" \"+ Middle +\" \" +Last)"
   ]
  },
  {
   "cell_type": "markdown",
   "metadata": {},
   "source": [
    "# \" NUMBERS IN PYHTON \""
   ]
  },
  {
   "cell_type": "markdown",
   "metadata": {},
   "source": [
    "# You have a football field that is 92 meter long and 48.8 meter wide. Find out total area using python and print it."
   ]
  },
  {
   "cell_type": "code",
   "execution_count": 12,
   "metadata": {},
   "outputs": [
    {
     "name": "stdout",
     "output_type": "stream",
     "text": [
      "The Total Area Of Fottball Feild Is : 4434.4\n"
     ]
    }
   ],
   "source": [
    "Length=92\n",
    "Width=48.2\n",
    "Area=Length*Width\n",
    "Round=round(Area,3)  #To Round of too 3 Decimal Digits\n",
    "print(\"The Total Area Of Fottball Feild Is :\",Round)"
   ]
  },
  {
   "cell_type": "markdown",
   "metadata": {},
   "source": [
    "# You bought 9 packets of potato chips from a store. Each packet costs 1.49 dollar and you gave shopkeeper 20 dollar. Find out using python, how many dollars is the shopkeeper going to give you back?"
   ]
  },
  {
   "cell_type": "code",
   "execution_count": 14,
   "metadata": {},
   "outputs": [
    {
     "name": "stdout",
     "output_type": "stream",
     "text": [
      "The Amount Return By Shopkeeper will be = 6.59\n"
     ]
    }
   ],
   "source": [
    "Chips=1.49\n",
    "Bought=9\n",
    "Bill=1.49*9\n",
    "AmountReturn=20-Bill\n",
    "print(\"The Amount Return By Shopkeeper will be =\",AmountReturn)"
   ]
  },
  {
   "cell_type": "markdown",
   "metadata": {},
   "source": [
    "# You want to replace tiles in your bathroom which is exactly square and 5.5 feet is its length. If tiles cost 500 rs per square feet, how much will be the total cost to replace all tiles. Calculate and print the cost using python (Hint: Use power operator ** to find area of a square)"
   ]
  },
  {
   "cell_type": "code",
   "execution_count": 15,
   "metadata": {},
   "outputs": [
    {
     "name": "stdout",
     "output_type": "stream",
     "text": [
      "The Total Cost To Replace Tiles Will Be : 15125.0\n"
     ]
    }
   ],
   "source": [
    "Length=5.5\n",
    "area=Length**2\n",
    "cost=500*area\n",
    "print(\"The Total Cost To Replace Tiles Will Be :\",cost)"
   ]
  },
  {
   "cell_type": "markdown",
   "metadata": {},
   "source": [
    "# Print binary representation of number 17"
   ]
  },
  {
   "cell_type": "code",
   "execution_count": 21,
   "metadata": {},
   "outputs": [
    {
     "name": "stdout",
     "output_type": "stream",
     "text": [
      "The Binary Representation OF Number 17 Is : 10001\n"
     ]
    }
   ],
   "source": [
    "num=17\n",
    "print(\"The Binary Representation OF Number 17 Is :\",format(num,'b'))"
   ]
  },
  {
   "cell_type": "markdown",
   "metadata": {},
   "source": [
    "# \" ALL THE LIST FUNC  IN PYTHON \""
   ]
  },
  {
   "cell_type": "code",
   "execution_count": 39,
   "metadata": {},
   "outputs": [
    {
     "name": "stdout",
     "output_type": "stream",
     "text": [
      "Mathematics\n",
      "['History', 'Pakistan-Studies']\n",
      "['History', 'Pakistan-Studies', 'Mathematics', 'MultiVariate Calculus']\n",
      "['History', 'Social Studies', 'Pakistan-Studies', 'Mathematics', 'MultiVariate Calculus']\n",
      "['History', 'Social Studies', 'Pakistan-Studies', 'Mathematics', 'MultiVariate Calculus', 'Numerical Computing', 'Software Engineering', 'DATA COMMUNICATION AND NETWORKS']\n",
      "['History', 'Social Studies', 'Pakistan-Studies', 'MultiVariate Calculus', 'Numerical Computing', 'Software Engineering']\n",
      "['History', 'MultiVariate Calculus', 'Numerical Computing', 'Pakistan-Studies', 'Social Studies', 'Software Engineering']\n",
      "['Software Engineering', 'Social Studies', 'Pakistan-Studies', 'Numerical Computing', 'MultiVariate Calculus', 'History']\n",
      "['Software Engineering', 'Social Studies', 'Pakistan-Studies', 'Numerical Computing', 'MultiVariate Calculus', 'History']\n",
      "['History', 'MultiVariate Calculus', 'Numerical Computing', 'Pakistan-Studies', 'Social Studies', 'Software Engineering']\n",
      "---------------------------------------------------------------------------------\n",
      "---------------------------------Loop Running-----------------------------------\n",
      "---------------------------------------------------------------------------------\n",
      "0 Software Engineering\n",
      "1 Social Studies\n",
      "2 Pakistan-Studies\n",
      "3 Numerical Computing\n",
      "4 MultiVariate Calculus\n",
      "5 History\n",
      "---------------------------------------------------------------------------------\n",
      "2 Software Engineering\n",
      "3 Social Studies\n",
      "4 Pakistan-Studies\n",
      "5 Numerical Computing\n",
      "6 MultiVariate Calculus\n",
      "7 History\n",
      "---------------------------------------------------------------------------------\n"
     ]
    }
   ],
   "source": [
    "Courses=['History','Pakistan-Studies','Mathematics']\n",
    "Extra_Courses=['Numerical Computing', 'Software Engineering',\"DATA COMMUNICATION AND NETWORKS\"]\n",
    "print(Courses[-1])\n",
    "print(Courses[0:2])\n",
    "\n",
    "Courses.append('MultiVariate Calculus')\n",
    "print(Courses)\n",
    "\n",
    "Courses.insert(1,'Social Studies')\n",
    "print(Courses)\n",
    "\n",
    "Courses.extend(Extra_Courses)           # TO Combine two list or more\n",
    "print(Courses)\n",
    "\n",
    "Courses.pop()                     \n",
    "\n",
    "Courses.remove('Mathematics')\n",
    "print(Courses)\n",
    "\n",
    "Courses.sort()  \n",
    "print(Courses)\n",
    "\n",
    "Courses.reverse()\n",
    "print(Courses)\n",
    "\n",
    "#if we have to  sort list in descending order\n",
    "\n",
    "Courses.sort(reverse=True)\n",
    "print(Courses)\n",
    "\n",
    "#if we dont have to change any thing in orignal list but want to sort so we can do     \n",
    "\n",
    "sorted_list=sorted(Courses)\n",
    "print(sorted_list)\n",
    "\n",
    "\n",
    "\n",
    "print('---------------------------------------------------------------------------------')\n",
    "print ('---------------------------------Loop Running-----------------------------------')\n",
    "print('---------------------------------------------------------------------------------')\n",
    "\n",
    " \n",
    "for index,value in enumerate(Courses):\n",
    "    print(index,value)\n",
    "    \n",
    "print('---------------------------------------------------------------------------------')\n",
    "\n",
    "for index,value in enumerate(Courses,start=2):\n",
    "    print(index,value)\n",
    "\n",
    "print('---------------------------------------------------------------------------------')"
   ]
  },
  {
   "cell_type": "markdown",
   "metadata": {},
   "source": [
    "#                 \" ALL THE TUPLES FUNC  IN PYTHON \""
   ]
  },
  {
   "cell_type": "code",
   "execution_count": 46,
   "metadata": {},
   "outputs": [
    {
     "name": "stdout",
     "output_type": "stream",
     "text": [
      "Pakistan-Studies\n"
     ]
    }
   ],
   "source": [
    "Courses=('History','Pakistan-Studies','Mathematics')\n",
    "print(Courses[1])"
   ]
  },
  {
   "cell_type": "code",
   "execution_count": 9,
   "metadata": {},
   "outputs": [],
   "source": [
    "def square(num):\n",
    "    return num**2"
   ]
  },
  {
   "cell_type": "code",
   "execution_count": 10,
   "metadata": {},
   "outputs": [
    {
     "data": {
      "text/plain": [
       "4"
      ]
     },
     "execution_count": 10,
     "metadata": {},
     "output_type": "execute_result"
    }
   ],
   "source": [
    "square(2)"
   ]
  },
  {
   "cell_type": "code",
   "execution_count": 14,
   "metadata": {},
   "outputs": [
    {
     "data": {
      "text/plain": [
       "[4, 9, 16, 25, 36, 49]"
      ]
     },
     "execution_count": 14,
     "metadata": {},
     "output_type": "execute_result"
    }
   ],
   "source": [
    "seq=[2,3,4,5,6,7]\n",
    "list (map(square,seq))"
   ]
  },
  {
   "cell_type": "code",
   "execution_count": 12,
   "metadata": {},
   "outputs": [],
   "source": [
    "t=(lambda num:num**2)"
   ]
  },
  {
   "cell_type": "code",
   "execution_count": 13,
   "metadata": {},
   "outputs": [
    {
     "data": {
      "text/plain": [
       "[4, 9, 16, 25, 36, 49]"
      ]
     },
     "execution_count": 13,
     "metadata": {},
     "output_type": "execute_result"
    }
   ],
   "source": [
    "seq=[2,3,4,5,6,7]\n",
    "list(map(lambda x:x**2,seq))"
   ]
  },
  {
   "cell_type": "code",
   "execution_count": 6,
   "metadata": {},
   "outputs": [
    {
     "data": {
      "text/plain": [
       "4"
      ]
     },
     "execution_count": 6,
     "metadata": {},
     "output_type": "execute_result"
    }
   ],
   "source": [
    "t(2)"
   ]
  },
  {
   "cell_type": "code",
   "execution_count": 7,
   "metadata": {},
   "outputs": [],
   "source": [
    "f=(lambda x:x*2)"
   ]
  },
  {
   "cell_type": "code",
   "execution_count": 8,
   "metadata": {},
   "outputs": [
    {
     "data": {
      "text/plain": [
       "8"
      ]
     },
     "execution_count": 8,
     "metadata": {},
     "output_type": "execute_result"
    }
   ],
   "source": [
    "f(4)"
   ]
  },
  {
   "cell_type": "code",
   "execution_count": 15,
   "metadata": {},
   "outputs": [
    {
     "data": {
      "text/plain": [
       "[2, 4, 6]"
      ]
     },
     "execution_count": 15,
     "metadata": {},
     "output_type": "execute_result"
    }
   ],
   "source": [
    "seq=[2,3,4,5,6,7]\n",
    "list(filter(lambda x: x%2==0,seq))"
   ]
  },
  {
   "cell_type": "code",
   "execution_count": 16,
   "metadata": {},
   "outputs": [
    {
     "data": {
      "text/plain": [
       "[3, 6]"
      ]
     },
     "execution_count": 16,
     "metadata": {},
     "output_type": "execute_result"
    }
   ],
   "source": [
    "seq=[2,3,4,5,6,7]\n",
    "list(filter(lambda x:x%3==0,seq))"
   ]
  },
  {
   "cell_type": "code",
   "execution_count": null,
   "metadata": {},
   "outputs": [],
   "source": []
  },
  {
   "cell_type": "code",
   "execution_count": null,
   "metadata": {},
   "outputs": [],
   "source": []
  },
  {
   "cell_type": "code",
   "execution_count": null,
   "metadata": {},
   "outputs": [],
   "source": []
  }
 ],
 "metadata": {
  "kernelspec": {
   "display_name": "Python 3",
   "language": "python",
   "name": "python3"
  },
  "language_info": {
   "codemirror_mode": {
    "name": "ipython",
    "version": 3
   },
   "file_extension": ".py",
   "mimetype": "text/x-python",
   "name": "python",
   "nbconvert_exporter": "python",
   "pygments_lexer": "ipython3",
   "version": "3.7.4"
  }
 },
 "nbformat": 4,
 "nbformat_minor": 2
}
